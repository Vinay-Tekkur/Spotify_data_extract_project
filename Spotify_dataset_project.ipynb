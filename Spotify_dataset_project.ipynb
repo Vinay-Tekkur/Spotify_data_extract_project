{
 "cells": [
  {
   "cell_type": "code",
   "execution_count": 120,
   "id": "0f93b2d0",
   "metadata": {},
   "outputs": [],
   "source": [
    "import spotipy\n",
    "import pandas as pd\n",
    "from datetime import date \n",
    "from datetime import datetime\n",
    "from spotipy.oauth2 import SpotifyClientCredentials\n",
    "import sqlalchemy as sal"
   ]
  },
  {
   "cell_type": "code",
   "execution_count": 121,
   "id": "1967d4dd",
   "metadata": {},
   "outputs": [],
   "source": [
    "# Connect to Spotify\n",
    "spotify = spotipy.Spotify(auth_manager=SpotifyClientCredentials('<enter client id>','<enter secret id>'))"
   ]
  },
  {
   "cell_type": "code",
   "execution_count": 122,
   "id": "321cdd5d",
   "metadata": {},
   "outputs": [],
   "source": [
    "# Extract Phase\n",
    "# Get top 50 songs playlist\n",
    "my_playlist = spotify.playlist_tracks(playlist_id='37i9dQZEVXbLZ52XmnySJg')"
   ]
  },
  {
   "cell_type": "code",
   "execution_count": 123,
   "id": "400384ac",
   "metadata": {},
   "outputs": [],
   "source": [
    "# Transform Phase\n",
    "# Get required details from data\n",
    "track_names = []\n",
    "track_ids = []\n",
    "track_duration_minutes = []\n",
    "track_preview_url = []\n",
    "track_artists = []\n",
    "track_popularity = []\n",
    "track_release_date = []\n",
    "song_ranks = []\n",
    "cnt = 1\n",
    "for items in my_playlist['items']:\n",
    "    song_ranks.append(cnt)\n",
    "    track_names.append(items['track']['name'])\n",
    "    track_ids.append(items['track']['id'])\n",
    "    track_duration_minutes.append(round(items['track']['duration_ms']/60000))\n",
    "    track_preview_url.append(items['track']['preview_url'])\n",
    "    track_popularity.append(items['track']['popularity'])\n",
    "    track_release_date.append(items['track']['album']['release_date'])\n",
    "    artist_names = ''\n",
    "    for artist in items['track']['artists']:\n",
    "        artist_names += artist['name'] + ';'\n",
    "    track_artists.append(artist_names)\n",
    "    cnt += 1"
   ]
  },
  {
   "cell_type": "code",
   "execution_count": 124,
   "id": "61e61964",
   "metadata": {},
   "outputs": [],
   "source": [
    "# Create final dataset\n",
    "spotify_track = {\n",
    "    'report_date': date.today(),\n",
    "    'track_name': track_names,\n",
    "    'track_id': track_ids,\n",
    "    'track_duration_minutes': track_duration_minutes,\n",
    "    'track_preview_url':track_preview_url,\n",
    "    'track_artists':track_artists,\n",
    "    'track_popularity':track_popularity,\n",
    "    'track_release_date':track_release_date,\n",
    "    'song_rank': song_ranks,\n",
    "    'record_added_date':datetime.now(),\n",
    "    'record_updated_date': datetime.now()\n",
    "}\n",
    "\n",
    "# Creating Data frame\n",
    "df_spotify = pd.DataFrame(spotify_track)"
   ]
  },
  {
   "cell_type": "code",
   "execution_count": 128,
   "id": "9b4ff803",
   "metadata": {},
   "outputs": [],
   "source": [
    "# Load Phase (Load dataset to DB)\n",
    "engine = sal.create_engine('mssql://W10DLQCCK3\\SQLEXPRESS/Python_ETL?driver=ODBC+DRIVER+17+FOR+SQL+SERVER')\n",
    "conn = engine.connect()\n",
    "\n",
    "def load_to_db(df_spotify):\n",
    "    df_spotify.to_sql('spotify_top_50_songs', con=conn, index=False, if_exists='append')\n",
    "    conn.commit()\n",
    "\n",
    "load_to_db(df_spotify)"
   ]
  }
 ],
 "metadata": {
  "kernelspec": {
   "display_name": "Python 3 (ipykernel)",
   "language": "python",
   "name": "python3"
  },
  "language_info": {
   "codemirror_mode": {
    "name": "ipython",
    "version": 3
   },
   "file_extension": ".py",
   "mimetype": "text/x-python",
   "name": "python",
   "nbconvert_exporter": "python",
   "pygments_lexer": "ipython3",
   "version": "3.8.10"
  }
 },
 "nbformat": 4,
 "nbformat_minor": 5
}
